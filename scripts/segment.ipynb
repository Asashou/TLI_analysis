{
 "cells": [
  {
   "cell_type": "code",
   "execution_count": 1,
   "metadata": {},
   "outputs": [],
   "source": [
    "from timeit import default_timer as timer\n",
    "# We import all our dependencies.\n",
    "import argparse\n",
    "import os\n",
    "import numpy as np \n",
    "import tifffile as tif\n",
    "import csv\n",
    "import psutil\n",
    "from scipy import ndimage, spatial, stats\n",
    "from tqdm import tqdm\n",
    "import operator"
   ]
  },
  {
   "cell_type": "code",
   "execution_count": 2,
   "metadata": {},
   "outputs": [],
   "source": [
    "# load image and make sure it's binary\n",
    "img_path = '/Users/aichah/Documents/TLI_analysis/input_data/211011_neuron1_gfp_mask.tif'\n",
    "with tif.TiffFile(img_path) as tiff:\n",
    "    img = tiff.asarray()\n",
    "img[img!=0] = 1"
   ]
  },
  {
   "cell_type": "code",
   "execution_count": 3,
   "metadata": {},
   "outputs": [],
   "source": [
    "def segment_3D(image, neu_no=1, max_neu_no=1, min_size=5000, xy_pixel=1, z_pixel=1, save=True, save_path='', save_file=''):\n",
    "    s = ndimage.generate_binary_structure(len(image.shape), len(image.shape))\n",
    "    labeled_array, num_labels = ndimage.label(image, structure=s)\n",
    "    labels = np.unique(labeled_array)\n",
    "    labels = labels[labels!=0]\n",
    "    neu_sizes = {}\n",
    "    for l in labels:\n",
    "        neu_sizes[l] = (labeled_array == l).sum()/(labeled_array == l).max()\n",
    "        # print((labeled_array == l).sum(), neu_sizes[l])\n",
    "    avg_size = np.mean(list(neu_sizes.values()))\n",
    "    # print('average, min and max segments sizes', avg_size, np.min(list(neu_sizes.values())), np.max(list(neu_sizes.values())))\n",
    "    if min_size != 0:\n",
    "        for ind, l in enumerate(labels):\n",
    "            if neu_sizes[l] < min_size:\n",
    "                # print(neu_sizes[l])\n",
    "                labels[ind] = 0\n",
    "        labels = labels[labels!=0]\n",
    "    if neu_no != 0 and num_labels > neu_no:\n",
    "        for ind, l in enumerate(labels):\n",
    "            if neu_sizes[l] < avg_size:\n",
    "                # print(neu_sizes[l])\n",
    "                labels[ind] = 0\n",
    "        labels = labels[labels!=0]\n",
    "        # print('segments after first filtering', len(labels))\n",
    "    if max_neu_no != 0 and len(labels) > max_neu_no:\n",
    "        sorted_sizes = sorted(neu_sizes.items(), key=operator.itemgetter(1), reverse=True)\n",
    "        sorted_sizes = sorted_sizes[0:max_neu_no]\n",
    "        labels = [[l][0][0] for l in sorted_sizes]\n",
    "        # print('# segments after second filtering', len(labels))\n",
    "    # print('segments after first filtering', len(labels))\n",
    "    neurons = {}\n",
    "    for ind, l in enumerate(labels):\n",
    "        labels[ind] = ind+1\n",
    "        neuron = labeled_array.copy()\n",
    "        neuron[neuron != l] = 0\n",
    "        neuron[neuron == l] = ind+1\n",
    "        neuron = neuron.astype('uint16')\n",
    "        # print('values and size of neuron:', neuron.min(), neuron.max(), neuron.sum()/(ind+1))\n",
    "        if neuron.sum() != 0 and neuron.sum() < np.prod(np.array(neuron.shape)):\n",
    "            neurons[ind+1] = neuron\n",
    "        else:\n",
    "            print('this segment was removed because its empty')\n",
    "        if save == True:\n",
    "            if save_file == '':\n",
    "                save_name = str(save_path+str(ind)+'_neuron.tif')\n",
    "            else:\n",
    "                save_name = str(save_path+'neuron_'+str(ind)+'_'+save_file)\n",
    "            if '.tif' not in save_name:\n",
    "                save_name +='.tif'\n",
    "            save_image(save_name, neuron, xy_pixel=xy_pixel, z_pixel=z_pixel)             \n",
    "    return neurons\n"
   ]
  },
  {
   "cell_type": "code",
   "execution_count": null,
   "metadata": {},
   "outputs": [],
   "source": [
    "for t, img i"
   ]
  }
 ],
 "metadata": {
  "interpreter": {
   "hash": "3558778624732e82e76d08d0e1529767d5d68faabf4350c6a5545e8ecf2497ca"
  },
  "kernelspec": {
   "display_name": "Python 3.9.6 ('growth')",
   "language": "python",
   "name": "python3"
  },
  "language_info": {
   "codemirror_mode": {
    "name": "ipython",
    "version": 3
   },
   "file_extension": ".py",
   "mimetype": "text/x-python",
   "name": "python",
   "nbconvert_exporter": "python",
   "pygments_lexer": "ipython3",
   "version": "3.9.6"
  },
  "orig_nbformat": 4
 },
 "nbformat": 4,
 "nbformat_minor": 2
}
