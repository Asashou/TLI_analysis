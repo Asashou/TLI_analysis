{
 "cells": [
  {
   "cell_type": "code",
   "execution_count": 8,
   "metadata": {},
   "outputs": [],
   "source": [
    "from timeit import default_timer as timer\n",
    "# We import all our dependencies.\n",
    "import argparse\n",
    "import os\n",
    "import numpy as np \n",
    "import tifffile as tif\n",
    "import csv\n",
    "import psutil\n",
    "from scipy import ndimage, spatial, stats\n",
    "from tqdm import tqdm\n",
    "import operator"
   ]
  },
  {
   "cell_type": "code",
   "execution_count": 9,
   "metadata": {},
   "outputs": [],
   "source": [
    "# load image and make sure it's binary\n",
    "img_path = '/Users/aichah/Documents/TLI_analysis/input_data/Rigid_GFP_1_220209_brain2.2_LP40_P36_neuron1.tif'\n",
    "with tif.TiffFile(img_path) as tiff:\n",
    "    img = tiff.asarray()\n",
    "img[img!=0] = 1"
   ]
  },
  {
   "cell_type": "code",
   "execution_count": 10,
   "metadata": {},
   "outputs": [],
   "source": [
    "def segment_3D(image, neu_no=1, max_neu_no=1, min_size=5000):\n",
    "    s = ndimage.generate_binary_structure(len(image.shape), len(image.shape))\n",
    "    labeled_array, num_labels = ndimage.label(image, structure=s)\n",
    "    labels = np.unique(labeled_array)\n",
    "    labels = labels[labels!=0]\n",
    "    neu_sizes = {}\n",
    "    for l in labels:\n",
    "        neu_sizes[l] = (labeled_array == l).sum()/(labeled_array == l).max()\n",
    "        # print((labeled_array == l).sum(), neu_sizes[l])\n",
    "    avg_size = np.mean(list(neu_sizes.values()))\n",
    "    # print('average, min and max segments sizes', avg_size, np.min(list(neu_sizes.values())), np.max(list(neu_sizes.values())))\n",
    "    if min_size != 0:\n",
    "        for ind, l in enumerate(labels):\n",
    "            if neu_sizes[l] < min_size:\n",
    "                # print(neu_sizes[l])\n",
    "                labels[ind] = 0\n",
    "        labels = labels[labels!=0]\n",
    "    if neu_no != 0 and num_labels > neu_no:\n",
    "        for ind, l in enumerate(labels):\n",
    "            if neu_sizes[l] < avg_size:\n",
    "                # print(neu_sizes[l])\n",
    "                labels[ind] = 0\n",
    "        labels = labels[labels!=0]\n",
    "        # print('segments after first filtering', len(labels))\n",
    "    if max_neu_no != 0 and len(labels) > max_neu_no:\n",
    "        sorted_sizes = sorted(neu_sizes.items(), key=operator.itemgetter(1), reverse=True)\n",
    "        sorted_sizes = sorted_sizes[0:max_neu_no]\n",
    "        labels = [[l][0][0] for l in sorted_sizes]\n",
    "        # print('# segments after second filtering', len(labels))\n",
    "    # print('segments after first filtering', len(labels))\n",
    "    neurons = {}\n",
    "    for ind, l in enumerate(labels):\n",
    "        labels[ind] = ind+1\n",
    "        neuron = labeled_array.copy()\n",
    "        neuron[neuron != l] = 0\n",
    "        neuron[neuron == l] = ind+1\n",
    "        neuron = neuron.astype('uint16')\n",
    "        # print('values and size of neuron:', neuron.min(), neuron.max(), neuron.sum()/(ind+1))\n",
    "        if neuron.sum() != 0 and neuron.sum() < np.prod(np.array(neuron.shape)):\n",
    "            neurons[ind+1] = neuron\n",
    "        else:\n",
    "            print('this segment was removed because its empty')            \n",
    "    return neurons\n"
   ]
  },
  {
   "cell_type": "code",
   "execution_count": 12,
   "metadata": {},
   "outputs": [
    {
     "name": "stderr",
     "output_type": "stream",
     "text": [
      " 40%|███▉      | 35/88 [1:29:27<1:56:22, 131.74s/it]"
     ]
    }
   ],
   "source": [
    "img1 = np.zeros_like(img)\n",
    "for t in tqdm(range(len(img))):\n",
    "    img1[t] = segment_3D(img[t], neu_no=1, max_neu_no=1, min_size=5000)[1]"
   ]
  },
  {
   "cell_type": "code",
   "execution_count": null,
   "metadata": {},
   "outputs": [],
   "source": [
    "tif.imsave('../input_data/220209_neuron1_gfp_clean.tif', img1, imagej=True)"
   ]
  },
  {
   "cell_type": "code",
   "execution_count": null,
   "metadata": {},
   "outputs": [],
   "source": []
  }
 ],
 "metadata": {
  "interpreter": {
   "hash": "3558778624732e82e76d08d0e1529767d5d68faabf4350c6a5545e8ecf2497ca"
  },
  "kernelspec": {
   "display_name": "Python 3.9.6 ('growth')",
   "language": "python",
   "name": "python3"
  },
  "language_info": {
   "codemirror_mode": {
    "name": "ipython",
    "version": 3
   },
   "file_extension": ".py",
   "mimetype": "text/x-python",
   "name": "python",
   "nbconvert_exporter": "python",
   "pygments_lexer": "ipython3",
   "version": "3.9.6"
  },
  "orig_nbformat": 4
 },
 "nbformat": 4,
 "nbformat_minor": 2
}
